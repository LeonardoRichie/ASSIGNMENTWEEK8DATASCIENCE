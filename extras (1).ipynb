{
 "cells": [
  {
   "cell_type": "code",
   "execution_count": 43,
   "metadata": {},
   "outputs": [],
   "source": [
    "import pandas as pd\n",
    "import numpy as np\n",
    "from sklearn.decomposition import PCA\n",
    "from sklearn.cluster import DBSCAN\n",
    "from sklearn import metrics\n",
    "import matplotlib.pyplot as plt\n",
    "from IPython.display import clear_output"
   ]
  },
  {
   "cell_type": "code",
   "execution_count": 24,
   "metadata": {},
   "outputs": [],
   "source": [
    "players = pd.read_csv(\"car_prices.csv\")"
   ]
  },
  {
   "cell_type": "code",
   "execution_count": 25,
   "metadata": {},
   "outputs": [
    {
     "data": {
      "text/html": [
       "<div>\n",
       "<style scoped>\n",
       "    .dataframe tbody tr th:only-of-type {\n",
       "        vertical-align: middle;\n",
       "    }\n",
       "\n",
       "    .dataframe tbody tr th {\n",
       "        vertical-align: top;\n",
       "    }\n",
       "\n",
       "    .dataframe thead th {\n",
       "        text-align: right;\n",
       "    }\n",
       "</style>\n",
       "<table border=\"1\" class=\"dataframe\">\n",
       "  <thead>\n",
       "    <tr style=\"text-align: right;\">\n",
       "      <th></th>\n",
       "      <th>car_id</th>\n",
       "      <th>price</th>\n",
       "      <th>fuel type</th>\n",
       "      <th>gear type</th>\n",
       "      <th>Make</th>\n",
       "      <th>Model</th>\n",
       "      <th>Year of manufacture</th>\n",
       "      <th>Colour</th>\n",
       "      <th>Condition</th>\n",
       "      <th>Mileage</th>\n",
       "      <th>Engine Size</th>\n",
       "      <th>Selling Condition</th>\n",
       "      <th>Bought Condition</th>\n",
       "      <th>car</th>\n",
       "      <th>Trim</th>\n",
       "      <th>Drivetrain</th>\n",
       "      <th>Seats</th>\n",
       "      <th>Number of Cylinders</th>\n",
       "      <th>Horse Power</th>\n",
       "      <th>Registered city</th>\n",
       "    </tr>\n",
       "  </thead>\n",
       "  <tbody>\n",
       "    <tr>\n",
       "      <th>0</th>\n",
       "      <td>icwAaDOmX573WiRRnLFPT237</td>\n",
       "      <td>2812500</td>\n",
       "      <td>Petrol</td>\n",
       "      <td>Automatic</td>\n",
       "      <td>Toyota</td>\n",
       "      <td>Corolla</td>\n",
       "      <td>2004</td>\n",
       "      <td>Silver</td>\n",
       "      <td>Nigerian Used</td>\n",
       "      <td>251732.0</td>\n",
       "      <td>1800.0</td>\n",
       "      <td>Registered</td>\n",
       "      <td>Registered</td>\n",
       "      <td>NaN</td>\n",
       "      <td>NaN</td>\n",
       "      <td>NaN</td>\n",
       "      <td>NaN</td>\n",
       "      <td>NaN</td>\n",
       "      <td>NaN</td>\n",
       "      <td>NaN</td>\n",
       "    </tr>\n",
       "    <tr>\n",
       "      <th>1</th>\n",
       "      <td>ByZ3NlPy2x0arAIyrKazClUS</td>\n",
       "      <td>5000000</td>\n",
       "      <td>Petrol</td>\n",
       "      <td>Automatic</td>\n",
       "      <td>Acura</td>\n",
       "      <td>MDX</td>\n",
       "      <td>2007</td>\n",
       "      <td>Green</td>\n",
       "      <td>Foreign Used</td>\n",
       "      <td>224589.0</td>\n",
       "      <td>3700.0</td>\n",
       "      <td>Imported</td>\n",
       "      <td>Imported</td>\n",
       "      <td>SUV</td>\n",
       "      <td>NaN</td>\n",
       "      <td>NaN</td>\n",
       "      <td>NaN</td>\n",
       "      <td>NaN</td>\n",
       "      <td>NaN</td>\n",
       "      <td>NaN</td>\n",
       "    </tr>\n",
       "    <tr>\n",
       "      <th>2</th>\n",
       "      <td>2zG6Mh3kwyoTvWoeKHkV1oFH</td>\n",
       "      <td>7592000</td>\n",
       "      <td>Petrol</td>\n",
       "      <td>Automatic</td>\n",
       "      <td>Acura</td>\n",
       "      <td>TL</td>\n",
       "      <td>2012</td>\n",
       "      <td>White</td>\n",
       "      <td>Foreign Used</td>\n",
       "      <td>111334.0</td>\n",
       "      <td>3500.0</td>\n",
       "      <td>Imported</td>\n",
       "      <td>Imported</td>\n",
       "      <td>Sedan</td>\n",
       "      <td>SH-AWD Automatic Tech Package</td>\n",
       "      <td>All Wheel</td>\n",
       "      <td>5.0</td>\n",
       "      <td>6.0</td>\n",
       "      <td>309.0</td>\n",
       "      <td>NaN</td>\n",
       "    </tr>\n",
       "    <tr>\n",
       "      <th>3</th>\n",
       "      <td>7APLHOPlI93qsYK0ST4D4wB2</td>\n",
       "      <td>9880000</td>\n",
       "      <td>Petrol</td>\n",
       "      <td>Automatic</td>\n",
       "      <td>Land Rover</td>\n",
       "      <td>Range Rover</td>\n",
       "      <td>2012</td>\n",
       "      <td>Gray</td>\n",
       "      <td>Nigerian Used</td>\n",
       "      <td>72682.0</td>\n",
       "      <td>4000.0</td>\n",
       "      <td>Registered</td>\n",
       "      <td>Imported</td>\n",
       "      <td>SUV</td>\n",
       "      <td>NaN</td>\n",
       "      <td>NaN</td>\n",
       "      <td>NaN</td>\n",
       "      <td>NaN</td>\n",
       "      <td>NaN</td>\n",
       "      <td>NaN</td>\n",
       "    </tr>\n",
       "    <tr>\n",
       "      <th>4</th>\n",
       "      <td>zIrIDPJLd46eRQf9JFacc0e</td>\n",
       "      <td>4160000</td>\n",
       "      <td>Petrol</td>\n",
       "      <td>Automatic</td>\n",
       "      <td>Ford</td>\n",
       "      <td>Edge</td>\n",
       "      <td>2013</td>\n",
       "      <td>Gray</td>\n",
       "      <td>Nigerian Used</td>\n",
       "      <td>92118.0</td>\n",
       "      <td>3500.0</td>\n",
       "      <td>Registered</td>\n",
       "      <td>Registered</td>\n",
       "      <td>SUV</td>\n",
       "      <td>NaN</td>\n",
       "      <td>NaN</td>\n",
       "      <td>NaN</td>\n",
       "      <td>NaN</td>\n",
       "      <td>NaN</td>\n",
       "      <td>Lagos</td>\n",
       "    </tr>\n",
       "  </tbody>\n",
       "</table>\n",
       "</div>"
      ],
      "text/plain": [
       "                     car_id    price fuel type  gear type        Make  \\\n",
       "0  icwAaDOmX573WiRRnLFPT237  2812500    Petrol  Automatic      Toyota   \n",
       "1  ByZ3NlPy2x0arAIyrKazClUS  5000000    Petrol  Automatic       Acura   \n",
       "2  2zG6Mh3kwyoTvWoeKHkV1oFH  7592000    Petrol  Automatic       Acura   \n",
       "3  7APLHOPlI93qsYK0ST4D4wB2  9880000    Petrol  Automatic  Land Rover   \n",
       "4   zIrIDPJLd46eRQf9JFacc0e  4160000    Petrol  Automatic        Ford   \n",
       "\n",
       "         Model  Year of manufacture  Colour      Condition   Mileage  \\\n",
       "0      Corolla                 2004  Silver  Nigerian Used  251732.0   \n",
       "1          MDX                 2007   Green   Foreign Used  224589.0   \n",
       "2           TL                 2012   White   Foreign Used  111334.0   \n",
       "3  Range Rover                 2012    Gray  Nigerian Used   72682.0   \n",
       "4         Edge                 2013    Gray  Nigerian Used   92118.0   \n",
       "\n",
       "   Engine Size Selling Condition Bought Condition    car  \\\n",
       "0       1800.0        Registered       Registered    NaN   \n",
       "1       3700.0          Imported         Imported    SUV   \n",
       "2       3500.0          Imported         Imported  Sedan   \n",
       "3       4000.0        Registered         Imported    SUV   \n",
       "4       3500.0        Registered       Registered    SUV   \n",
       "\n",
       "                            Trim Drivetrain  Seats  Number of Cylinders  \\\n",
       "0                            NaN        NaN    NaN                  NaN   \n",
       "1                            NaN        NaN    NaN                  NaN   \n",
       "2  SH-AWD Automatic Tech Package  All Wheel    5.0                  6.0   \n",
       "3                            NaN        NaN    NaN                  NaN   \n",
       "4                            NaN        NaN    NaN                  NaN   \n",
       "\n",
       "   Horse Power Registered city  \n",
       "0          NaN             NaN  \n",
       "1          NaN             NaN  \n",
       "2        309.0             NaN  \n",
       "3          NaN             NaN  \n",
       "4          NaN           Lagos  "
      ]
     },
     "execution_count": 25,
     "metadata": {},
     "output_type": "execute_result"
    }
   ],
   "source": [
    "players.head()"
   ]
  },
  {
   "cell_type": "code",
   "execution_count": 26,
   "metadata": {},
   "outputs": [],
   "source": [
    "features = [\"price\",\"Mileage\"]"
   ]
  },
  {
   "cell_type": "code",
   "execution_count": 27,
   "metadata": {},
   "outputs": [],
   "source": [
    "players = players.dropna(subset=features)"
   ]
  },
  {
   "cell_type": "code",
   "execution_count": 28,
   "metadata": {},
   "outputs": [],
   "source": [
    "data = players[features].copy()"
   ]
  },
  {
   "cell_type": "code",
   "execution_count": 29,
   "metadata": {},
   "outputs": [
    {
     "data": {
      "text/html": [
       "<div>\n",
       "<style scoped>\n",
       "    .dataframe tbody tr th:only-of-type {\n",
       "        vertical-align: middle;\n",
       "    }\n",
       "\n",
       "    .dataframe tbody tr th {\n",
       "        vertical-align: top;\n",
       "    }\n",
       "\n",
       "    .dataframe thead th {\n",
       "        text-align: right;\n",
       "    }\n",
       "</style>\n",
       "<table border=\"1\" class=\"dataframe\">\n",
       "  <thead>\n",
       "    <tr style=\"text-align: right;\">\n",
       "      <th></th>\n",
       "      <th>price</th>\n",
       "      <th>Mileage</th>\n",
       "    </tr>\n",
       "  </thead>\n",
       "  <tbody>\n",
       "    <tr>\n",
       "      <th>0</th>\n",
       "      <td>2812500</td>\n",
       "      <td>251732.0</td>\n",
       "    </tr>\n",
       "    <tr>\n",
       "      <th>1</th>\n",
       "      <td>5000000</td>\n",
       "      <td>224589.0</td>\n",
       "    </tr>\n",
       "    <tr>\n",
       "      <th>2</th>\n",
       "      <td>7592000</td>\n",
       "      <td>111334.0</td>\n",
       "    </tr>\n",
       "    <tr>\n",
       "      <th>3</th>\n",
       "      <td>9880000</td>\n",
       "      <td>72682.0</td>\n",
       "    </tr>\n",
       "    <tr>\n",
       "      <th>4</th>\n",
       "      <td>4160000</td>\n",
       "      <td>92118.0</td>\n",
       "    </tr>\n",
       "    <tr>\n",
       "      <th>...</th>\n",
       "      <td>...</td>\n",
       "      <td>...</td>\n",
       "    </tr>\n",
       "    <tr>\n",
       "      <th>3717</th>\n",
       "      <td>1924000</td>\n",
       "      <td>282769.0</td>\n",
       "    </tr>\n",
       "    <tr>\n",
       "      <th>3718</th>\n",
       "      <td>1890000</td>\n",
       "      <td>182544.0</td>\n",
       "    </tr>\n",
       "    <tr>\n",
       "      <th>3719</th>\n",
       "      <td>1155000</td>\n",
       "      <td>234354.0</td>\n",
       "    </tr>\n",
       "    <tr>\n",
       "      <th>3720</th>\n",
       "      <td>1260000</td>\n",
       "      <td>345926.0</td>\n",
       "    </tr>\n",
       "    <tr>\n",
       "      <th>3721</th>\n",
       "      <td>1872000</td>\n",
       "      <td>90330.0</td>\n",
       "    </tr>\n",
       "  </tbody>\n",
       "</table>\n",
       "<p>3663 rows × 2 columns</p>\n",
       "</div>"
      ],
      "text/plain": [
       "        price   Mileage\n",
       "0     2812500  251732.0\n",
       "1     5000000  224589.0\n",
       "2     7592000  111334.0\n",
       "3     9880000   72682.0\n",
       "4     4160000   92118.0\n",
       "...       ...       ...\n",
       "3717  1924000  282769.0\n",
       "3718  1890000  182544.0\n",
       "3719  1155000  234354.0\n",
       "3720  1260000  345926.0\n",
       "3721  1872000   90330.0\n",
       "\n",
       "[3663 rows x 2 columns]"
      ]
     },
     "execution_count": 29,
     "metadata": {},
     "output_type": "execute_result"
    }
   ],
   "source": [
    "data"
   ]
  },
  {
   "cell_type": "code",
   "execution_count": 30,
   "metadata": {},
   "outputs": [],
   "source": [
    "data = ((data-data.min())/(data.max()-data.min()))*9+1"
   ]
  },
  {
   "cell_type": "code",
   "execution_count": 31,
   "metadata": {},
   "outputs": [
    {
     "data": {
      "text/html": [
       "<div>\n",
       "<style scoped>\n",
       "    .dataframe tbody tr th:only-of-type {\n",
       "        vertical-align: middle;\n",
       "    }\n",
       "\n",
       "    .dataframe tbody tr th {\n",
       "        vertical-align: top;\n",
       "    }\n",
       "\n",
       "    .dataframe thead th {\n",
       "        text-align: right;\n",
       "    }\n",
       "</style>\n",
       "<table border=\"1\" class=\"dataframe\">\n",
       "  <thead>\n",
       "    <tr style=\"text-align: right;\">\n",
       "      <th></th>\n",
       "      <th>price</th>\n",
       "      <th>Mileage</th>\n",
       "    </tr>\n",
       "  </thead>\n",
       "  <tbody>\n",
       "    <tr>\n",
       "      <th>count</th>\n",
       "      <td>3663.000000</td>\n",
       "      <td>3663.000000</td>\n",
       "    </tr>\n",
       "    <tr>\n",
       "      <th>mean</th>\n",
       "      <td>1.580019</td>\n",
       "      <td>1.714423</td>\n",
       "    </tr>\n",
       "    <tr>\n",
       "      <th>std</th>\n",
       "      <td>0.627738</td>\n",
       "      <td>0.511408</td>\n",
       "    </tr>\n",
       "    <tr>\n",
       "      <th>min</th>\n",
       "      <td>1.000000</td>\n",
       "      <td>1.000000</td>\n",
       "    </tr>\n",
       "    <tr>\n",
       "      <th>25%</th>\n",
       "      <td>1.265380</td>\n",
       "      <td>1.430132</td>\n",
       "    </tr>\n",
       "    <tr>\n",
       "      <th>50%</th>\n",
       "      <td>1.408892</td>\n",
       "      <td>1.645927</td>\n",
       "    </tr>\n",
       "    <tr>\n",
       "      <th>75%</th>\n",
       "      <td>1.653355</td>\n",
       "      <td>1.899080</td>\n",
       "    </tr>\n",
       "    <tr>\n",
       "      <th>max</th>\n",
       "      <td>10.000000</td>\n",
       "      <td>10.000000</td>\n",
       "    </tr>\n",
       "  </tbody>\n",
       "</table>\n",
       "</div>"
      ],
      "text/plain": [
       "             price      Mileage\n",
       "count  3663.000000  3663.000000\n",
       "mean      1.580019     1.714423\n",
       "std       0.627738     0.511408\n",
       "min       1.000000     1.000000\n",
       "25%       1.265380     1.430132\n",
       "50%       1.408892     1.645927\n",
       "75%       1.653355     1.899080\n",
       "max      10.000000    10.000000"
      ]
     },
     "execution_count": 31,
     "metadata": {},
     "output_type": "execute_result"
    }
   ],
   "source": [
    "data.describe()"
   ]
  },
  {
   "cell_type": "code",
   "execution_count": 32,
   "metadata": {},
   "outputs": [
    {
     "data": {
      "text/html": [
       "<div>\n",
       "<style scoped>\n",
       "    .dataframe tbody tr th:only-of-type {\n",
       "        vertical-align: middle;\n",
       "    }\n",
       "\n",
       "    .dataframe tbody tr th {\n",
       "        vertical-align: top;\n",
       "    }\n",
       "\n",
       "    .dataframe thead th {\n",
       "        text-align: right;\n",
       "    }\n",
       "</style>\n",
       "<table border=\"1\" class=\"dataframe\">\n",
       "  <thead>\n",
       "    <tr style=\"text-align: right;\">\n",
       "      <th></th>\n",
       "      <th>price</th>\n",
       "      <th>Mileage</th>\n",
       "    </tr>\n",
       "  </thead>\n",
       "  <tbody>\n",
       "    <tr>\n",
       "      <th>0</th>\n",
       "      <td>1.329224</td>\n",
       "      <td>1.922348</td>\n",
       "    </tr>\n",
       "    <tr>\n",
       "      <th>1</th>\n",
       "      <td>1.647534</td>\n",
       "      <td>1.822895</td>\n",
       "    </tr>\n",
       "    <tr>\n",
       "      <th>2</th>\n",
       "      <td>2.024705</td>\n",
       "      <td>1.407927</td>\n",
       "    </tr>\n",
       "    <tr>\n",
       "      <th>3</th>\n",
       "      <td>2.357639</td>\n",
       "      <td>1.266305</td>\n",
       "    </tr>\n",
       "    <tr>\n",
       "      <th>4</th>\n",
       "      <td>1.525303</td>\n",
       "      <td>1.337519</td>\n",
       "    </tr>\n",
       "  </tbody>\n",
       "</table>\n",
       "</div>"
      ],
      "text/plain": [
       "      price   Mileage\n",
       "0  1.329224  1.922348\n",
       "1  1.647534  1.822895\n",
       "2  2.024705  1.407927\n",
       "3  2.357639  1.266305\n",
       "4  1.525303  1.337519"
      ]
     },
     "execution_count": 32,
     "metadata": {},
     "output_type": "execute_result"
    }
   ],
   "source": [
    "data.head()"
   ]
  },
  {
   "cell_type": "markdown",
   "metadata": {},
   "source": [
    "KMeans"
   ]
  },
  {
   "cell_type": "code",
   "execution_count": 33,
   "metadata": {},
   "outputs": [],
   "source": [
    "def random_centroids(data, k):\n",
    "    centroids=[]\n",
    "    for i in range(k):\n",
    "        centroid =data.apply(lambda x: float(x.sample()))\n",
    "        centroids.append(centroid)\n",
    "    return pd.concat(centroids, axis=1)"
   ]
  },
  {
   "cell_type": "code",
   "execution_count": 34,
   "metadata": {},
   "outputs": [],
   "source": [
    "centroids = random_centroids(data,2)"
   ]
  },
  {
   "cell_type": "code",
   "execution_count": 35,
   "metadata": {},
   "outputs": [
    {
     "name": "stdout",
     "output_type": "stream",
     "text": [
      "                0         1\n",
      "price    1.313436  1.752304\n",
      "Mileage  2.038794  1.624807\n"
     ]
    }
   ],
   "source": [
    "print(centroids)"
   ]
  },
  {
   "cell_type": "code",
   "execution_count": 36,
   "metadata": {},
   "outputs": [],
   "source": [
    "def get_labels(data, centroids):\n",
    "    distances = centroids.apply(lambda x: np.sqrt(((data-x) ** 2).sum(axis=1)))\n",
    "    return distances.idxmin(axis=1)"
   ]
  },
  {
   "cell_type": "code",
   "execution_count": 37,
   "metadata": {},
   "outputs": [],
   "source": [
    "labels = get_labels(data,centroids)"
   ]
  },
  {
   "cell_type": "code",
   "execution_count": 38,
   "metadata": {},
   "outputs": [
    {
     "data": {
      "text/plain": [
       "1    2065\n",
       "0    1598\n",
       "dtype: int64"
      ]
     },
     "execution_count": 38,
     "metadata": {},
     "output_type": "execute_result"
    }
   ],
   "source": [
    "labels.value_counts()"
   ]
  },
  {
   "cell_type": "code",
   "execution_count": 39,
   "metadata": {},
   "outputs": [],
   "source": [
    "def new_cenroids(data, labels, k):\n",
    "    data.groupby(labels).apply(lambda x: np.exp(np.log(x).mean())).T"
   ]
  },
  {
   "cell_type": "code",
   "execution_count": 40,
   "metadata": {},
   "outputs": [],
   "source": [
    "def plot_clusters(data, labels, centroids, iteration):\n",
    "    pca = PCA(n_components = 2)\n",
    "    data_2d = pca.fit_transform(data)\n",
    "    centroids_2d = pca.transform(centroids.T)\n",
    "    clear_output(wait=True)\n",
    "    plt.title(f'Iteraion{iteration}')\n",
    "    plt.scatter(x=data_2d[:,0], y=data_2d[:,1], c=labels)\n",
    "    plt.scatter(x=centroids_2d[:,0], y=centroids_2d[:1])\n",
    "    plt.show()"
   ]
  },
  {
   "cell_type": "code",
   "execution_count": 41,
   "metadata": {},
   "outputs": [
    {
     "data": {
      "image/png": "[encoded data removed]",
      "text/plain": [
       "<Figure size 640x480 with 1 Axes>"
      ]
     },
     "metadata": {},
     "output_type": "display_data"
    }
   ],
   "source": [
    "max_iterations = 100\n",
    "k = 2\n",
    "\n",
    "centroids = random_centroids(data, k)\n",
    "old_centroids = pd.DataFrame()\n",
    "iteration = 1\n",
    "\n",
    "while iteration < max_iterations and not centroids.equals(old_centroids):\n",
    "    old_centroids = centroids\n",
    "    labels = get_labels(data, centroids)\n",
    "    plot_clusters(data, labels, centroids, iteration)\n",
    "    iteration += 1"
   ]
  },
  {
   "cell_type": "markdown",
   "metadata": {},
   "source": [
    "DBScan"
   ]
  },
  {
   "cell_type": "code",
   "execution_count": 65,
   "metadata": {},
   "outputs": [],
   "source": [
    "db = DBSCAN(eps = 3, min_samples = 10).fit(data)\n",
    "core_samples_mask = np.zeros_like(db.labels_, dtype = bool)\n",
    "core_samples_mask[db.core_sample_indices_] = True\n",
    "labels = db.labels_"
   ]
  },
  {
   "cell_type": "code",
   "execution_count": 66,
   "metadata": {},
   "outputs": [
    {
     "data": {
      "text/plain": [
       "array([0, 0, 0, ..., 0, 0, 0], dtype=int64)"
      ]
     },
     "execution_count": 66,
     "metadata": {},
     "output_type": "execute_result"
    }
   ],
   "source": [
    "labels"
   ]
  },
  {
   "cell_type": "code",
   "execution_count": 45,
   "metadata": {},
   "outputs": [],
   "source": [
    "n_clusters = len(set(labels)) - (1 if -1 in labels else 0)\n",
    "n_noise = list(labels).count(-1)"
   ]
  },
  {
   "cell_type": "code",
   "execution_count": 55,
   "metadata": {},
   "outputs": [
    {
     "ename": "InvalidIndexError",
     "evalue": "(slice(None, None, None), 0)",
     "output_type": "error",
     "traceback": [
      "\u001b[1;31m---------------------------------------------------------------------------\u001b[0m",
      "\u001b[1;31mTypeError\u001b[0m                                 Traceback (most recent call last)",
      "File \u001b[1;32mc:\\Users\\ferdi\\AppData\\Local\\Programs\\Python\\Python310\\lib\\site-packages\\pandas\\core\\indexes\\base.py:3621\u001b[0m, in \u001b[0;36mIndex.get_loc\u001b[1;34m(self, key, method, tolerance)\u001b[0m\n\u001b[0;32m   3620\u001b[0m \u001b[39mtry\u001b[39;00m:\n\u001b[1;32m-> 3621\u001b[0m     \u001b[39mreturn\u001b[39;00m \u001b[39mself\u001b[39;49m\u001b[39m.\u001b[39;49m_engine\u001b[39m.\u001b[39;49mget_loc(casted_key)\n\u001b[0;32m   3622\u001b[0m \u001b[39mexcept\u001b[39;00m \u001b[39mKeyError\u001b[39;00m \u001b[39mas\u001b[39;00m err:\n",
      "File \u001b[1;32mc:\\Users\\ferdi\\AppData\\Local\\Programs\\Python\\Python310\\lib\\site-packages\\pandas\\_libs\\index.pyx:136\u001b[0m, in \u001b[0;36mpandas._libs.index.IndexEngine.get_loc\u001b[1;34m()\u001b[0m\n",
      "File \u001b[1;32mc:\\Users\\ferdi\\AppData\\Local\\Programs\\Python\\Python310\\lib\\site-packages\\pandas\\_libs\\index.pyx:142\u001b[0m, in \u001b[0;36mpandas._libs.index.IndexEngine.get_loc\u001b[1;34m()\u001b[0m\n",
      "\u001b[1;31mTypeError\u001b[0m: '(slice(None, None, None), 0)' is an invalid key",
      "\nDuring handling of the above exception, another exception occurred:\n",
      "\u001b[1;31mInvalidIndexError\u001b[0m                         Traceback (most recent call last)",
      "Cell \u001b[1;32mIn [55], line 12\u001b[0m\n\u001b[0;32m      8\u001b[0m class_member_mask \u001b[39m=\u001b[39m labels \u001b[39m==\u001b[39m k\n\u001b[0;32m     10\u001b[0m xy \u001b[39m=\u001b[39m data[class_member_mask \u001b[39m&\u001b[39m core_samples_mask]\n\u001b[0;32m     11\u001b[0m plt\u001b[39m.\u001b[39mplot(\n\u001b[1;32m---> 12\u001b[0m     xy[:, \u001b[39m0\u001b[39;49m],\n\u001b[0;32m     13\u001b[0m     xy[:, \u001b[39m1\u001b[39m],\n\u001b[0;32m     14\u001b[0m     \u001b[39m\"\u001b[39m\u001b[39mo\u001b[39m\u001b[39m\"\u001b[39m,\n\u001b[0;32m     15\u001b[0m     markerfacecolor\u001b[39m=\u001b[39m\u001b[39mtuple\u001b[39m(col),\n\u001b[0;32m     16\u001b[0m     markeredgecolor\u001b[39m=\u001b[39m\u001b[39m\"\u001b[39m\u001b[39mk\u001b[39m\u001b[39m\"\u001b[39m,\n\u001b[0;32m     17\u001b[0m     markersize\u001b[39m=\u001b[39m\u001b[39m14\u001b[39m,\n\u001b[0;32m     18\u001b[0m )\n\u001b[0;32m     20\u001b[0m xy \u001b[39m=\u001b[39m data[class_member_mask \u001b[39m&\u001b[39m \u001b[39m~\u001b[39mcore_samples_mask]\n\u001b[0;32m     21\u001b[0m plt\u001b[39m.\u001b[39mplot(\n\u001b[0;32m     22\u001b[0m     xy[:, \u001b[39m0\u001b[39m],\n\u001b[0;32m     23\u001b[0m     xy[:, \u001b[39m1\u001b[39m],\n\u001b[1;32m   (...)\u001b[0m\n\u001b[0;32m     27\u001b[0m     markersize\u001b[39m=\u001b[39m\u001b[39m6\u001b[39m,\n\u001b[0;32m     28\u001b[0m )\n",
      "File \u001b[1;32mc:\\Users\\ferdi\\AppData\\Local\\Programs\\Python\\Python310\\lib\\site-packages\\pandas\\core\\frame.py:3506\u001b[0m, in \u001b[0;36mDataFrame.__getitem__\u001b[1;34m(self, key)\u001b[0m\n\u001b[0;32m   3504\u001b[0m \u001b[39mif\u001b[39;00m \u001b[39mself\u001b[39m\u001b[39m.\u001b[39mcolumns\u001b[39m.\u001b[39mnlevels \u001b[39m>\u001b[39m \u001b[39m1\u001b[39m:\n\u001b[0;32m   3505\u001b[0m     \u001b[39mreturn\u001b[39;00m \u001b[39mself\u001b[39m\u001b[39m.\u001b[39m_getitem_multilevel(key)\n\u001b[1;32m-> 3506\u001b[0m indexer \u001b[39m=\u001b[39m \u001b[39mself\u001b[39;49m\u001b[39m.\u001b[39;49mcolumns\u001b[39m.\u001b[39;49mget_loc(key)\n\u001b[0;32m   3507\u001b[0m \u001b[39mif\u001b[39;00m is_integer(indexer):\n\u001b[0;32m   3508\u001b[0m     indexer \u001b[39m=\u001b[39m [indexer]\n",
      "File \u001b[1;32mc:\\Users\\ferdi\\AppData\\Local\\Programs\\Python\\Python310\\lib\\site-packages\\pandas\\core\\indexes\\base.py:3628\u001b[0m, in \u001b[0;36mIndex.get_loc\u001b[1;34m(self, key, method, tolerance)\u001b[0m\n\u001b[0;32m   3623\u001b[0m         \u001b[39mraise\u001b[39;00m \u001b[39mKeyError\u001b[39;00m(key) \u001b[39mfrom\u001b[39;00m \u001b[39merr\u001b[39;00m\n\u001b[0;32m   3624\u001b[0m     \u001b[39mexcept\u001b[39;00m \u001b[39mTypeError\u001b[39;00m:\n\u001b[0;32m   3625\u001b[0m         \u001b[39m# If we have a listlike key, _check_indexing_error will raise\u001b[39;00m\n\u001b[0;32m   3626\u001b[0m         \u001b[39m#  InvalidIndexError. Otherwise we fall through and re-raise\u001b[39;00m\n\u001b[0;32m   3627\u001b[0m         \u001b[39m#  the TypeError.\u001b[39;00m\n\u001b[1;32m-> 3628\u001b[0m         \u001b[39mself\u001b[39;49m\u001b[39m.\u001b[39;49m_check_indexing_error(key)\n\u001b[0;32m   3629\u001b[0m         \u001b[39mraise\u001b[39;00m\n\u001b[0;32m   3631\u001b[0m \u001b[39m# GH#42269\u001b[39;00m\n",
      "File \u001b[1;32mc:\\Users\\ferdi\\AppData\\Local\\Programs\\Python\\Python310\\lib\\site-packages\\pandas\\core\\indexes\\base.py:5637\u001b[0m, in \u001b[0;36mIndex._check_indexing_error\u001b[1;34m(self, key)\u001b[0m\n\u001b[0;32m   5633\u001b[0m \u001b[39mdef\u001b[39;00m \u001b[39m_check_indexing_error\u001b[39m(\u001b[39mself\u001b[39m, key):\n\u001b[0;32m   5634\u001b[0m     \u001b[39mif\u001b[39;00m \u001b[39mnot\u001b[39;00m is_scalar(key):\n\u001b[0;32m   5635\u001b[0m         \u001b[39m# if key is not a scalar, directly raise an error (the code below\u001b[39;00m\n\u001b[0;32m   5636\u001b[0m         \u001b[39m# would convert to numpy arrays and raise later any way) - GH29926\u001b[39;00m\n\u001b[1;32m-> 5637\u001b[0m         \u001b[39mraise\u001b[39;00m InvalidIndexError(key)\n",
      "\u001b[1;31mInvalidIndexError\u001b[0m: (slice(None, None, None), 0)"
     ]
    }
   ],
   "source": [
    "unique_labels = set(labels)\n",
    "colors = [plt.cm.Spectral(each) for each in np.linspace(0, 1, len(unique_labels))]\n",
    "for k, col in zip(unique_labels, colors):\n",
    "    if k == -1:\n",
    "        # Black used for noise.\n",
    "        col = [0, 0, 0, 1]\n",
    "\n",
    "    class_member_mask = labels == k\n",
    "\n",
    "    xy = data[class_member_mask & core_samples_mask]\n",
    "    plt.plot(\n",
    "        xy[:, 0],\n",
    "        xy[:, 1],\n",
    "        \"o\",\n",
    "        markerfacecolor=tuple(col),\n",
    "        markeredgecolor=\"k\",\n",
    "        markersize=14,\n",
    "    )\n",
    "\n",
    "    xy = data[class_member_mask & ~core_samples_mask]\n",
    "    plt.plot(\n",
    "        xy[:, 0],\n",
    "        xy[:, 1],\n",
    "        \"o\",\n",
    "        markerfacecolor=tuple(col),\n",
    "        markeredgecolor=\"k\",\n",
    "        markersize=6,\n",
    "    )\n",
    "\n",
    "plt.title(\"Estimated number of clusters: %d\" % n_clusters_)\n",
    "plt.show()"
   ]
  }
 ],
 "metadata": {
  "kernelspec": {
   "display_name": "Python 3.10.1 64-bit",
   "language": "python",
   "name": "python3"
  },
  "language_info": {
   "codemirror_mode": {
    "name": "ipython",
    "version": 3
   },
   "file_extension": ".py",
   "mimetype": "text/x-python",
   "name": "python",
   "nbconvert_exporter": "python",
   "pygments_lexer": "ipython3",
   "version": "3.10.1"
  },
  "orig_nbformat": 4,
  "vscode": {
   "interpreter": {
    "hash": "7eec50da0e3be4e37b89341a66a33160a3870a3b2768bf31d962db1ed1be33ae"
   }
  }
 },
 "nbformat": 4,
 "nbformat_minor": 2
}
